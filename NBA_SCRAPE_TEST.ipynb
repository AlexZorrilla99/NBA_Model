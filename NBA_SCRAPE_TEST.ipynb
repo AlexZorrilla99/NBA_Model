{
 "cells": [
  {
   "cell_type": "code",
   "execution_count": 8,
   "metadata": {},
   "outputs": [],
   "source": [
    "# Import Libraries\n",
    "import numpy as np\n",
    "import pandas as pd\n",
    "import requests\n",
    "import random\n",
    "import time\n",
    "from io import StringIO\n",
    "from sqlalchemy import create_engine"
   ]
  },
  {
   "cell_type": "code",
   "execution_count": 9,
   "metadata": {},
   "outputs": [],
   "source": [
    "#Create list of team codes \n",
    "teams = [\n",
    "    'ATL', 'BOS', 'BRK', 'CHO', 'CHI', 'CLE', 'DAL', 'DEN', 'DET', 'GSW', \n",
    "    'HOU', 'IND', 'LAC', 'LAL', 'MEM', 'MIA', 'MIL', 'MIN', 'NOP', 'NYK', \n",
    "    'OKC', 'ORL', 'PHI', 'PHO', 'POR', 'SAC', 'SAS', 'TOR', 'UTA', 'WAS'\n",
    "]"
   ]
  },
  {
   "cell_type": "code",
   "execution_count": 10,
   "metadata": {},
   "outputs": [],
   "source": [
    "#Create code: team name dictionary\n",
    "team_dict = {\n",
    "    'ATL': 'Hawks', 'BOS': 'Celtics', 'BRK': 'Nets', 'CHO': 'Hornets', 'CHI': 'Bulls', 'CLE': 'Cavaliers',\n",
    "    'DAL': 'Mavericks', 'DEN': 'Nuggets', 'DET': 'Pistons', 'GSW': 'Warriors', 'HOU': 'Rockets', 'IND': 'Pacers', \n",
    "    'LAC': 'Clippers', 'LAL': 'Lakers', 'MEM': 'Grizzlies', 'MIA': 'Heat', 'MIL': 'Bucks', 'MIN': 'Timberwolves', \n",
    "    'NOP': 'Pelicans', 'NYK': 'Knicks', 'OKC': 'Thunder', 'ORL': 'Magic', 'PHI': '76ers', 'PHO': 'Suns', \n",
    "    'POR': 'Trail Blazers', 'SAC': 'Kings', 'SAS': 'Spurs', 'TOR': 'Raptors', 'UTA': 'Jazz', 'WAS': 'Wizards'\n",
    "}"
   ]
  },
  {
   "cell_type": "code",
   "execution_count": 11,
   "metadata": {},
   "outputs": [],
   "source": [
    "#Create the list of years (seasons)\n",
    "seasons = ['2022', '2023']\n"
   ]
  },
  {
   "cell_type": "code",
   "execution_count": 12,
   "metadata": {},
   "outputs": [
    {
     "name": "stdout",
     "output_type": "stream",
     "text": [
      "Fetching data for Hawks in 2022: https://www.basketball-reference.com/teams/ATL/2022/gamelog-advanced/\n",
      "Fetching data for Celtics in 2022: https://www.basketball-reference.com/teams/BOS/2022/gamelog-advanced/\n",
      "Fetching data for Nets in 2022: https://www.basketball-reference.com/teams/BRK/2022/gamelog-advanced/\n",
      "Fetching data for Hornets in 2022: https://www.basketball-reference.com/teams/CHO/2022/gamelog-advanced/\n",
      "Fetching data for Bulls in 2022: https://www.basketball-reference.com/teams/CHI/2022/gamelog-advanced/\n",
      "Fetching data for Cavaliers in 2022: https://www.basketball-reference.com/teams/CLE/2022/gamelog-advanced/\n",
      "Fetching data for Mavericks in 2022: https://www.basketball-reference.com/teams/DAL/2022/gamelog-advanced/\n",
      "Fetching data for Nuggets in 2022: https://www.basketball-reference.com/teams/DEN/2022/gamelog-advanced/\n",
      "Fetching data for Pistons in 2022: https://www.basketball-reference.com/teams/DET/2022/gamelog-advanced/\n",
      "Fetching data for Warriors in 2022: https://www.basketball-reference.com/teams/GSW/2022/gamelog-advanced/\n",
      "Fetching data for Rockets in 2022: https://www.basketball-reference.com/teams/HOU/2022/gamelog-advanced/\n",
      "Fetching data for Pacers in 2022: https://www.basketball-reference.com/teams/IND/2022/gamelog-advanced/\n",
      "Fetching data for Clippers in 2022: https://www.basketball-reference.com/teams/LAC/2022/gamelog-advanced/\n",
      "Fetching data for Lakers in 2022: https://www.basketball-reference.com/teams/LAL/2022/gamelog-advanced/\n",
      "Fetching data for Grizzlies in 2022: https://www.basketball-reference.com/teams/MEM/2022/gamelog-advanced/\n",
      "Fetching data for Heat in 2022: https://www.basketball-reference.com/teams/MIA/2022/gamelog-advanced/\n",
      "Fetching data for Bucks in 2022: https://www.basketball-reference.com/teams/MIL/2022/gamelog-advanced/\n",
      "Fetching data for Timberwolves in 2022: https://www.basketball-reference.com/teams/MIN/2022/gamelog-advanced/\n",
      "Fetching data for Pelicans in 2022: https://www.basketball-reference.com/teams/NOP/2022/gamelog-advanced/\n",
      "Fetching data for Knicks in 2022: https://www.basketball-reference.com/teams/NYK/2022/gamelog-advanced/\n",
      "Fetching data for Thunder in 2022: https://www.basketball-reference.com/teams/OKC/2022/gamelog-advanced/\n",
      "Fetching data for Magic in 2022: https://www.basketball-reference.com/teams/ORL/2022/gamelog-advanced/\n",
      "Fetching data for 76ers in 2022: https://www.basketball-reference.com/teams/PHI/2022/gamelog-advanced/\n",
      "Fetching data for Suns in 2022: https://www.basketball-reference.com/teams/PHO/2022/gamelog-advanced/\n",
      "Fetching data for Trail Blazers in 2022: https://www.basketball-reference.com/teams/POR/2022/gamelog-advanced/\n",
      "Fetching data for Kings in 2022: https://www.basketball-reference.com/teams/SAC/2022/gamelog-advanced/\n",
      "Fetching data for Spurs in 2022: https://www.basketball-reference.com/teams/SAS/2022/gamelog-advanced/\n",
      "Fetching data for Raptors in 2022: https://www.basketball-reference.com/teams/TOR/2022/gamelog-advanced/\n",
      "Fetching data for Jazz in 2022: https://www.basketball-reference.com/teams/UTA/2022/gamelog-advanced/\n",
      "Fetching data for Wizards in 2022: https://www.basketball-reference.com/teams/WAS/2022/gamelog-advanced/\n",
      "Fetching data for Hawks in 2023: https://www.basketball-reference.com/teams/ATL/2023/gamelog-advanced/\n",
      "Fetching data for Celtics in 2023: https://www.basketball-reference.com/teams/BOS/2023/gamelog-advanced/\n",
      "Fetching data for Nets in 2023: https://www.basketball-reference.com/teams/BRK/2023/gamelog-advanced/\n",
      "Fetching data for Hornets in 2023: https://www.basketball-reference.com/teams/CHO/2023/gamelog-advanced/\n",
      "Fetching data for Bulls in 2023: https://www.basketball-reference.com/teams/CHI/2023/gamelog-advanced/\n",
      "Fetching data for Cavaliers in 2023: https://www.basketball-reference.com/teams/CLE/2023/gamelog-advanced/\n",
      "Fetching data for Mavericks in 2023: https://www.basketball-reference.com/teams/DAL/2023/gamelog-advanced/\n",
      "Fetching data for Nuggets in 2023: https://www.basketball-reference.com/teams/DEN/2023/gamelog-advanced/\n",
      "Fetching data for Pistons in 2023: https://www.basketball-reference.com/teams/DET/2023/gamelog-advanced/\n",
      "Fetching data for Warriors in 2023: https://www.basketball-reference.com/teams/GSW/2023/gamelog-advanced/\n",
      "Fetching data for Rockets in 2023: https://www.basketball-reference.com/teams/HOU/2023/gamelog-advanced/\n",
      "Fetching data for Pacers in 2023: https://www.basketball-reference.com/teams/IND/2023/gamelog-advanced/\n",
      "Fetching data for Clippers in 2023: https://www.basketball-reference.com/teams/LAC/2023/gamelog-advanced/\n",
      "Fetching data for Lakers in 2023: https://www.basketball-reference.com/teams/LAL/2023/gamelog-advanced/\n",
      "Fetching data for Grizzlies in 2023: https://www.basketball-reference.com/teams/MEM/2023/gamelog-advanced/\n",
      "Fetching data for Heat in 2023: https://www.basketball-reference.com/teams/MIA/2023/gamelog-advanced/\n",
      "Fetching data for Bucks in 2023: https://www.basketball-reference.com/teams/MIL/2023/gamelog-advanced/\n",
      "Fetching data for Timberwolves in 2023: https://www.basketball-reference.com/teams/MIN/2023/gamelog-advanced/\n",
      "Fetching data for Pelicans in 2023: https://www.basketball-reference.com/teams/NOP/2023/gamelog-advanced/\n",
      "Fetching data for Knicks in 2023: https://www.basketball-reference.com/teams/NYK/2023/gamelog-advanced/\n",
      "Fetching data for Thunder in 2023: https://www.basketball-reference.com/teams/OKC/2023/gamelog-advanced/\n",
      "Fetching data for Magic in 2023: https://www.basketball-reference.com/teams/ORL/2023/gamelog-advanced/\n",
      "Fetching data for 76ers in 2023: https://www.basketball-reference.com/teams/PHI/2023/gamelog-advanced/\n",
      "Fetching data for Suns in 2023: https://www.basketball-reference.com/teams/PHO/2023/gamelog-advanced/\n",
      "Fetching data for Trail Blazers in 2023: https://www.basketball-reference.com/teams/POR/2023/gamelog-advanced/\n",
      "Fetching data for Kings in 2023: https://www.basketball-reference.com/teams/SAC/2023/gamelog-advanced/\n",
      "Fetching data for Spurs in 2023: https://www.basketball-reference.com/teams/SAS/2023/gamelog-advanced/\n",
      "Fetching data for Raptors in 2023: https://www.basketball-reference.com/teams/TOR/2023/gamelog-advanced/\n",
      "Fetching data for Jazz in 2023: https://www.basketball-reference.com/teams/UTA/2023/gamelog-advanced/\n",
      "Fetching data for Wizards in 2023: https://www.basketball-reference.com/teams/WAS/2023/gamelog-advanced/\n",
      "(4920, 14)\n",
      "  Season  G Team   Name        Date  Opp  OPts  DPts   Opp_Name   ORtg   DRtg  \\\n",
      "0   2022  1  ATL  Hawks  2021-10-21  DAL   113    87  Mavericks  109.9   84.6   \n",
      "1   2022  2  ATL  Hawks  2021-10-23  CLE    95   101  Cavaliers   99.3  105.6   \n",
      "2   2022  3  ATL  Hawks  2021-10-25  DET   122   104    Pistons  123.1  105.0   \n",
      "3   2022  4  ATL  Hawks  2021-10-27  NOP   102    99   Pelicans  110.2  107.0   \n",
      "4   2022  5  ATL  Hawks  2021-10-28  WAS   111   122    Wizards  111.9  122.9   \n",
      "\n",
      "    Pace Location  Win  \n",
      "0  102.9     Home    1  \n",
      "1   95.7     Away    0  \n",
      "2   99.1     Home    1  \n",
      "3   92.5     Away    1  \n",
      "4   99.2     Away    0  \n"
     ]
    }
   ],
   "source": [
    "# Create the list of years (seasons)\n",
    "seasons = ['2022', '2023']\n",
    "\n",
    "# Create an empty DataFrame\n",
    "nba_df = pd.DataFrame()\n",
    "\n",
    "# Function to fetch and process data for a team in a season\n",
    "def fetch_team_data(team, season):\n",
    "    # Set URL\n",
    "    url = f'https://www.basketball-reference.com/teams/{team}/{season}/gamelog-advanced/'\n",
    "    print(f\"Fetching data for {team_dict[team]} in {season}: {url}\")\n",
    "    \n",
    "    # Get a response object\n",
    "    response = requests.get(url, headers={'User-agent': 'Mozilla/5.0'})\n",
    "    visible_html = response.text.replace('<!--', '')\n",
    "    \n",
    "    # Get DataFrames\n",
    "    df_list = pd.read_html(StringIO(visible_html), header=1)\n",
    "    \n",
    "    # Use only the regular-season DataFrame\n",
    "    if len(df_list) >= 1:\n",
    "        team_df = df_list[0]\n",
    "        \n",
    "        # Drop rows where 'G' is NaN or 'G'\n",
    "        team_df = team_df.dropna(subset=['G'])\n",
    "        team_df = team_df[team_df['G'] != 'G']\n",
    "        team_df = team_df.reset_index(drop=True)\n",
    "        \n",
    "        # Keep relevant columns\n",
    "        team_df = team_df.iloc[:, 1:11]\n",
    "        \n",
    "        # Rename columns\n",
    "        team_df = team_df.rename(columns={'Unnamed: 3': 'At', 'Tm': 'OPts', 'Opp.1': 'DPts'})\n",
    "        \n",
    "        # Process 'At' column\n",
    "        team_df['At'] = team_df['At'].apply(lambda x: x if x == '@' else \"\")\n",
    "        team_df['Location'] = team_df['At'].apply(lambda x: 'Away' if x == '@' else 'Home')\n",
    "        team_df = team_df.drop(columns=['At'])\n",
    "        \n",
    "        # Process 'W/L' column\n",
    "        team_df['Win'] = team_df['W/L'].apply(lambda x: 1 if x == 'W' else 0)\n",
    "        team_df = team_df.drop(columns=['W/L'])\n",
    "        \n",
    "        # Add additional columns\n",
    "        team_df.insert(0, 'Season', season)\n",
    "        team_df.insert(2, 'Team', team)\n",
    "        team_df.insert(3, 'Name', team_dict[team])\n",
    "        team_df['Opp_Name'] = team_df['Opp'].apply(lambda x: team_dict.get(x, x))\n",
    "        team_df.insert(8, 'Opp_Name', team_df.pop('Opp_Name'))\n",
    "        \n",
    "        # Convert data types\n",
    "        numeric_columns = ['G', 'OPts', 'DPts', 'ORtg', 'DRtg', 'Pace']\n",
    "        for col in numeric_columns:\n",
    "            team_df[col] = pd.to_numeric(team_df[col], errors='coerce')\n",
    "        \n",
    "        return team_df\n",
    "    else:\n",
    "        print(f\"No regular-season data for {team} in {season}\")\n",
    "        return pd.DataFrame()  # Return empty DataFrame if no data\n",
    "\n",
    "# Iterate through seasons and teams\n",
    "for season in seasons:\n",
    "    for team in teams:\n",
    "        try:\n",
    "            team_df = fetch_team_data(team, season)\n",
    "            if not team_df.empty:\n",
    "                # Aggregate the DataFrame\n",
    "                nba_df = pd.concat([nba_df, team_df], ignore_index=True)\n",
    "            # Pause to abide by basketball-reference.com rules\n",
    "            time.sleep(random.randint(4, 6))\n",
    "        except Exception as e:\n",
    "            print(f\"Error processing {team} in {season}: {e}\")\n",
    "            continue\n",
    "\n",
    "# Display the DataFrame\n",
    "print(nba_df.shape)\n",
    "print(nba_df.head())"
   ]
  },
  {
   "cell_type": "code",
   "execution_count": 13,
   "metadata": {},
   "outputs": [
    {
     "name": "stdout",
     "output_type": "stream",
     "text": [
      "     Season   G Team     Name        Date  Opp  OPts  DPts   Opp_Name   ORtg  \\\n",
      "0      2022   1  ATL    Hawks  2021-10-21  DAL   113    87  Mavericks  109.9   \n",
      "1      2022   2  ATL    Hawks  2021-10-23  CLE    95   101  Cavaliers   99.3   \n",
      "2      2022   3  ATL    Hawks  2021-10-25  DET   122   104    Pistons  123.1   \n",
      "3      2022   4  ATL    Hawks  2021-10-27  NOP   102    99   Pelicans  110.2   \n",
      "4      2022   5  ATL    Hawks  2021-10-28  WAS   111   122    Wizards  111.9   \n",
      "...     ...  ..  ...      ...         ...  ...   ...   ...        ...    ...   \n",
      "4915   2023  78  WAS  Wizards  2023-04-02  NYK   109   118     Knicks  110.8   \n",
      "4916   2023  79  WAS  Wizards  2023-04-04  MIL   128   140      Bucks  117.9   \n",
      "4917   2023  80  WAS  Wizards  2023-04-05  ATL   116   134      Hawks  111.6   \n",
      "4918   2023  81  WAS  Wizards  2023-04-07  MIA   114   108       Heat  111.3   \n",
      "4919   2023  82  WAS  Wizards  2023-04-09  HOU   109   114    Rockets  106.5   \n",
      "\n",
      "       DRtg   Pace Location  Win  \n",
      "0      84.6  102.9     Home    1  \n",
      "1     105.6   95.7     Away    0  \n",
      "2     105.0   99.1     Home    1  \n",
      "3     107.0   92.5     Away    1  \n",
      "4     122.9   99.2     Away    0  \n",
      "...     ...    ...      ...  ...  \n",
      "4915  119.9   98.4     Away    0  \n",
      "4916  129.0  108.6     Home    0  \n",
      "4917  129.0  103.9     Away    0  \n",
      "4918  105.4  102.5     Home    1  \n",
      "4919  111.4  102.3     Home    0  \n",
      "\n",
      "[4920 rows x 14 columns]\n"
     ]
    }
   ],
   "source": [
    "print(nba_df)"
   ]
  },
  {
   "cell_type": "code",
   "execution_count": 14,
   "metadata": {},
   "outputs": [],
   "source": [
    "# Update data types (if not done in the function)\n",
    "nba_df['G'] = nba_df['G'].astype(int)\n",
    "nba_df['OPts'] = nba_df['OPts'].astype(int)\n",
    "nba_df['DPts'] = nba_df['DPts'].astype(int)\n",
    "nba_df['ORtg'] = nba_df['ORtg'].astype(float)\n",
    "nba_df['DRtg'] = nba_df['DRtg'].astype(float)\n",
    "nba_df['Pace'] = nba_df['Pace'].astype(float)"
   ]
  },
  {
   "cell_type": "code",
   "execution_count": 15,
   "metadata": {},
   "outputs": [
    {
     "name": "stdout",
     "output_type": "stream",
     "text": [
      "<class 'pandas.core.frame.DataFrame'>\n",
      "RangeIndex: 4920 entries, 0 to 4919\n",
      "Data columns (total 14 columns):\n",
      " #   Column    Non-Null Count  Dtype  \n",
      "---  ------    --------------  -----  \n",
      " 0   Season    4920 non-null   object \n",
      " 1   G         4920 non-null   int32  \n",
      " 2   Team      4920 non-null   object \n",
      " 3   Name      4920 non-null   object \n",
      " 4   Date      4920 non-null   object \n",
      " 5   Opp       4920 non-null   object \n",
      " 6   OPts      4920 non-null   int32  \n",
      " 7   DPts      4920 non-null   int32  \n",
      " 8   Opp_Name  4920 non-null   object \n",
      " 9   ORtg      4920 non-null   float64\n",
      " 10  DRtg      4920 non-null   float64\n",
      " 11  Pace      4920 non-null   float64\n",
      " 12  Location  4920 non-null   object \n",
      " 13  Win       4920 non-null   int64  \n",
      "dtypes: float64(3), int32(3), int64(1), object(7)\n",
      "memory usage: 480.6+ KB\n",
      "None\n"
     ]
    }
   ],
   "source": [
    "print(nba_df.info())\n"
   ]
  },
  {
   "cell_type": "code",
   "execution_count": 16,
   "metadata": {},
   "outputs": [
    {
     "data": {
      "text/plain": [
       "4920"
      ]
     },
     "execution_count": 16,
     "metadata": {},
     "output_type": "execute_result"
    }
   ],
   "source": [
    "#SQLIte database\n",
    "engine = create_engine('sqlite:///nba_advanced_gamelogs_22_23.db')\n",
    "nba_df.to_sql('nba_stats', con=engine, if_exists='replace', index=False)"
   ]
  }
 ],
 "metadata": {
  "kernelspec": {
   "display_name": "Python 3",
   "language": "python",
   "name": "python3"
  },
  "language_info": {
   "codemirror_mode": {
    "name": "ipython",
    "version": 3
   },
   "file_extension": ".py",
   "mimetype": "text/x-python",
   "name": "python",
   "nbconvert_exporter": "python",
   "pygments_lexer": "ipython3",
   "version": "3.12.6"
  }
 },
 "nbformat": 4,
 "nbformat_minor": 2
}
